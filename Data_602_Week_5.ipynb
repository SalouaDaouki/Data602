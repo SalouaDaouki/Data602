{
  "nbformat": 4,
  "nbformat_minor": 0,
  "metadata": {
    "colab": {
      "provenance": []
    },
    "kernelspec": {
      "name": "python3",
      "display_name": "Python 3"
    },
    "language_info": {
      "name": "python"
    }
  },
  "cells": [
    {
      "cell_type": "markdown",
      "source": [
        "**Q1:** Create a class called BankAccount that has four attributes: bankname, firstname, lastname, and balance."
      ],
      "metadata": {
        "id": "KninZPWaci4X"
      }
    },
    {
      "cell_type": "code",
      "execution_count": 27,
      "metadata": {
        "id": "THVeFXsNCT16",
        "colab": {
          "base_uri": "https://localhost:8080/"
        },
        "outputId": "1fdcf979-44e5-48ad-8a0b-41a5caed2e26"
      },
      "outputs": [
        {
          "output_type": "stream",
          "name": "stdout",
          "text": [
            "Bank Name :  TdBank\n",
            "Account Name :  Saloua Daouki\n",
            "Account Balance :  3000  $\n"
          ]
        }
      ],
      "source": [
        "# creating the BankAccount class with four attributes\n",
        "class BankAccount:\n",
        "  def __init__(self, bankname, firstname, lastname, balance=0):\n",
        "    self.bankname = bankname\n",
        "    self.firstname = firstname\n",
        "    self.lastname = lastname\n",
        "    self.balance = balance\n",
        "# creating the deposit method\n",
        "  def deposit(self, amount):\n",
        "    self.balance += amount\n",
        "# creating the withdrawal method\n",
        "  def withdrawal(self, lessamount):\n",
        "    if self.balance > lessamount:\n",
        "      self.balance = self.balance - lessamount\n",
        "    else:\n",
        "      print(\"The withdrawal cannot be processed; insufficient balance!\")\n",
        "# using __str()__ to print the bank account infos\n",
        "  def __str__(self):\n",
        "      print(\"Bank Name : \" , self.bankname)\n",
        "      print(\"Account Name : \" , self.firstname, self.lastname)\n",
        "      print(\"Account Balance : \" , self.balance , \" $\")\n",
        "# Testing the class :\n",
        "newAccount = BankAccount(\"TdBank\", \"Saloua\" , \"Daouki\", 2700)\n",
        "# Testing the method deposit\n",
        "newAccount.deposit(500)\n",
        "# Testing the method withdrawal\n",
        "newAccount.withdrawal(200)\n",
        "# Display account informations\n",
        "newAccount.__str__()"
      ]
    },
    {
      "cell_type": "markdown",
      "source": [
        "**Q2:** Create a class Box that has attributes length and width that takes values for length and width upon construction (instantiation via the constructor)."
      ],
      "metadata": {
        "id": "OBdOOnpPrY7h"
      }
    },
    {
      "cell_type": "code",
      "source": [
        "import math\n",
        "# creating the Box class with the attributes length and width\n",
        "class Box:\n",
        "  def __init__(self, l, w):\n",
        "    self.length = l\n",
        "    self.width = w\n",
        "\n",
        "# creating render() method to print the rectangle\n",
        "  def render(self):\n",
        "    for i in range(self.width):\n",
        "      if i == 0 or i == self.width - 1:\n",
        "        for j in range(self.length):\n",
        "            print(\"* \", end=\"\")\n",
        "        print()\n",
        "      else:\n",
        "        for j in range(self.length):\n",
        "            if j == 0 or j == self.length - 1:\n",
        "                print(\"* \", end=\"\")\n",
        "            else:\n",
        "                print(end=\"  \")\n",
        "        print()\n",
        "\n",
        "# creating invert() method to switch the length and the width\n",
        "  def invert(self):\n",
        "    for i in range(self.length):\n",
        "      if i == 0 or i == self.length - 1:\n",
        "        for j in range(self.width):\n",
        "            print(\"* \", end=\"\")\n",
        "        print()\n",
        "      else:\n",
        "        for j in range(self.width):\n",
        "            if j == 0 or j == self.width - 1:\n",
        "                print(\"* \", end=\"\")\n",
        "            else:\n",
        "                print(end=\"  \")\n",
        "        print()\n",
        "# creating get_area method to calculate the area of the Box\n",
        "  def get_area(self):\n",
        "    print(\"The area of the rectangle is \", self.length * self.width, \"Square unit\")\n",
        "# creating get_perimeter method to calculate the perimeter of the Box\n",
        "  def get_perimeter(self):\n",
        "    print(\"The perimeter of the rectangle is \",  2*(self.length+self.width), \"units\")\n",
        "# creating double() method to double the size of the rectangle\n",
        "  def double(self):\n",
        "    print(\"The double size of the dimensions of the rectangle is (\", 2*self.length,\",\", 2*self.width,\")\" )\n",
        "    print(\"The double of the area of the rectangle is \", 2*(self.length * self.width), \"Square unit\" )\n",
        "    print(\"The double of the perimeter of the rectangle is \", 2* (2*(self.length+self.width)), \"units\")\n",
        " # Setting __eq__ to compare two boxes\n",
        "  def __eq__(self, other):\n",
        "    if self.length == other.length and self.width == other.width:\n",
        "      print(\"The boxes are identical! \")\n",
        "    else:\n",
        "      print(\"The boxes are NOT identical! \")\n",
        "# creating print_dim() method to print the dimensions of the box\n",
        "  def print_dim(self):\n",
        "    print(\"The length of the rectangle is : \" , self.length, \" units, and the width of the rectangle is: \", self.width, \"units\")\n",
        "# creating get_dim() method to eturns a tuple with the lenght and the width of the rectangle\n",
        "  def get_dim(self):\n",
        "    print(\"The dimensions of the rectangle are (l, w): (\", self.length, \",\", self.width,\")\")\n",
        "# creating combine() method to increase the dimensions of the rectangle by the dimensions of the other rectangle\n",
        "  def combine(self, other):\n",
        "    print(\"The new length is \",  self.length + other.length)\n",
        "    print(\"The new width is\",  self.width + other.width)\n",
        "# creating get_hypot() method to find the length of the diagonal of the rectangle\n",
        "  def get_hypot(self):\n",
        "    print(\"The diagonal of the rectangle is \", round(math.sqrt((self.length**2)+(self.width**2)),2))\n",
        "\n",
        "Box1 = Box(5, 10)\n",
        "Box2 = Box(3, 4)\n",
        "Box3 = Box(5, 10)\n",
        "Box1.render()\n",
        "Box2.render()\n",
        "Box3.render()\n",
        "Box1.invert()\n",
        "Box2.invert()\n",
        "Box3.invert()\n",
        "Box1.print_dim()\n",
        "Box2.print_dim()\n",
        "Box3.print_dim()\n",
        "Box1.__eq__(Box2)\n",
        "Box1.__eq__(Box3)\n",
        "Box1.combine(Box3)\n",
        "Box2.double()\n",
        "Box1.combine(Box2)"
      ],
      "metadata": {
        "colab": {
          "base_uri": "https://localhost:8080/"
        },
        "id": "y8Ow4Zn1rak4",
        "outputId": "3eff1276-addc-4cf0-daf0-5fb8b895e395"
      },
      "execution_count": 111,
      "outputs": [
        {
          "output_type": "stream",
          "name": "stdout",
          "text": [
            "* * * * * \n",
            "*       * \n",
            "*       * \n",
            "*       * \n",
            "*       * \n",
            "*       * \n",
            "*       * \n",
            "*       * \n",
            "*       * \n",
            "* * * * * \n",
            "* * * \n",
            "*   * \n",
            "*   * \n",
            "* * * \n",
            "* * * * * \n",
            "*       * \n",
            "*       * \n",
            "*       * \n",
            "*       * \n",
            "*       * \n",
            "*       * \n",
            "*       * \n",
            "*       * \n",
            "* * * * * \n",
            "* * * * * * * * * * \n",
            "*                 * \n",
            "*                 * \n",
            "*                 * \n",
            "* * * * * * * * * * \n",
            "* * * * \n",
            "*     * \n",
            "* * * * \n",
            "* * * * * * * * * * \n",
            "*                 * \n",
            "*                 * \n",
            "*                 * \n",
            "* * * * * * * * * * \n",
            "The length of the rectangle is :  5  units, and the width of the rectangle is:  10 units\n",
            "The length of the rectangle is :  3  units, and the width of the rectangle is:  4 units\n",
            "The length of the rectangle is :  5  units, and the width of the rectangle is:  10 units\n",
            "The boxes are NOT identical! \n",
            "The boxes are identical! \n",
            "The new length is  10\n",
            "The new width is 20\n",
            "The double size of the dimensions of the rectangle is ( 6 , 8 )\n",
            "The double of the area of the rectangle is  24 Square unit\n",
            "The double of the perimeter of the rectangle is  28 units\n",
            "The new length is  8\n",
            "The new width is 14\n"
          ]
        }
      ]
    }
  ]
}